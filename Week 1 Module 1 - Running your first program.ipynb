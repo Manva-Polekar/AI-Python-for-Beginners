{
 "cells": [
  {
   "cell_type": "code",
   "execution_count": 1,
   "id": "ab5efd04",
   "metadata": {},
   "outputs": [
    {
     "name": "stdout",
     "output_type": "stream",
     "text": [
      "Hello, World!\n"
     ]
    }
   ],
   "source": [
    "print(\"Hello, World!\")"
   ]
  },
  {
   "cell_type": "code",
   "execution_count": 2,
   "id": "9b8c9f52",
   "metadata": {},
   "outputs": [
    {
     "name": "stdout",
     "output_type": "stream",
     "text": [
      "Hello, Manva!\n"
     ]
    }
   ],
   "source": [
    "# Typing my name\n",
    "print(\"Hello, Manva!\")"
   ]
  },
  {
   "cell_type": "code",
   "execution_count": 3,
   "id": "cb944602",
   "metadata": {},
   "outputs": [
    {
     "name": "stdout",
     "output_type": "stream",
     "text": [
      "Hello, Future!\n"
     ]
    }
   ],
   "source": [
    "# Typing someone I love\n",
    "print(\"Hello, Future!\")"
   ]
  },
  {
   "cell_type": "code",
   "execution_count": null,
   "id": "f7167ad9",
   "metadata": {},
   "outputs": [],
   "source": [
    "# THIS IS COMMENT - PYTHON WILL IGNORE THIS LINE"
   ]
  },
  {
   "cell_type": "code",
   "execution_count": 4,
   "id": "5b05117e",
   "metadata": {},
   "outputs": [
    {
     "name": "stdout",
     "output_type": "stream",
     "text": [
      "Hello, Manva!\n",
      "How is your day going?\n"
     ]
    }
   ],
   "source": [
    "# This is an example of code with multiple\n",
    "# comments, including this one which\n",
    "# spans multiple lines\n",
    "print(\"Hello, Manva!\")\n",
    "# Follow up with an additional print command\n",
    "print(\"How is your day going?\")"
   ]
  },
  {
   "cell_type": "code",
   "execution_count": 5,
   "id": "3e3a7a48",
   "metadata": {},
   "outputs": [
    {
     "name": "stdout",
     "output_type": "stream",
     "text": [
      "Purple\n"
     ]
    }
   ],
   "source": [
    "# Write code that displays your favorite color\n",
    "print(\"Purple\")"
   ]
  },
  {
   "cell_type": "code",
   "execution_count": 6,
   "id": "f9e2cec8",
   "metadata": {},
   "outputs": [
    {
     "name": "stdout",
     "output_type": "stream",
     "text": [
      "Happy and energetic learning as I am learning something new and exciting\n"
     ]
    }
   ],
   "source": [
    "# Write code that answers the question \"How are you feeling today?\"\n",
    "print(\"Happy and energetic learning as I am learning something new and exciting\")"
   ]
  },
  {
   "cell_type": "code",
   "execution_count": 7,
   "id": "b18ceb8f",
   "metadata": {},
   "outputs": [
    {
     "ename": "SyntaxError",
     "evalue": "unterminated string literal (detected at line 2) (3779935963.py, line 2)",
     "output_type": "error",
     "traceback": [
      "  \u001b[36mCell\u001b[39m\u001b[36m \u001b[39m\u001b[32mIn[7]\u001b[39m\u001b[32m, line 2\u001b[39m\n\u001b[31m    \u001b[39m\u001b[31mprint(\"Happy and energetic learning as I am learning something new and exciting)\u001b[39m\n          ^\n\u001b[31mSyntaxError\u001b[39m\u001b[31m:\u001b[39m unterminated string literal (detected at line 2)\n"
     ]
    }
   ],
   "source": [
    "# Alter your code from the previous cell so that it will cause an error when you run it\n",
    "print(\"Happy and energetic learning as I am learning something new and exciting)"
   ]
  },
  {
   "cell_type": "code",
   "execution_count": 8,
   "id": "6d8a49df",
   "metadata": {},
   "outputs": [
    {
     "name": "stdout",
     "output_type": "stream",
     "text": [
      "Starting something new which I want to do from today so feeling happy but also scared as what if... well everything will turn out GREAT and I WILL NEVER GIVE UP\n"
     ]
    }
   ],
   "source": [
    "# Ask an LLM to help you fix the error in the code in the previous cell (or fix yourself) and\n",
    "# then type the corrected code on the next line: (fixing myself but writing something different)\n",
    "print(\"Starting something new which I want to do from today so feeling happy but also scared as what if... well everything will turn out GREAT and I WILL NEVER GIVE UP\")"
   ]
  },
  {
   "cell_type": "code",
   "execution_count": 9,
   "id": "c2e61a00",
   "metadata": {},
   "outputs": [
    {
     "name": "stdout",
     "output_type": "stream",
     "text": [
      "THE END :)\n"
     ]
    }
   ],
   "source": [
    "print(\"THE END :)\")"
   ]
  },
  {
   "cell_type": "code",
   "execution_count": null,
   "id": "69cc06ce",
   "metadata": {},
   "outputs": [],
   "source": []
  }
 ],
 "metadata": {
  "kernelspec": {
   "display_name": "Python 3",
   "language": "python",
   "name": "python3"
  },
  "language_info": {
   "codemirror_mode": {
    "name": "ipython",
    "version": 3
   },
   "file_extension": ".py",
   "mimetype": "text/x-python",
   "name": "python",
   "nbconvert_exporter": "python",
   "pygments_lexer": "ipython3",
   "version": "3.13.5"
  }
 },
 "nbformat": 4,
 "nbformat_minor": 5
}
